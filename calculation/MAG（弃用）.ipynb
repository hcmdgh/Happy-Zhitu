{
 "cells": [
  {
   "attachments": {},
   "cell_type": "markdown",
   "metadata": {},
   "source": [
    "# 1 定义实体"
   ]
  },
  {
   "cell_type": "code",
   "execution_count": 99,
   "metadata": {},
   "outputs": [],
   "source": [
    "from dataclasses import dataclass \n",
    "from typing import Any, Optional\n",
    "\n",
    "Str = Optional[str]\n",
    "Int = Optional[int]\n",
    "Float = Optional[float]"
   ]
  },
  {
   "cell_type": "code",
   "execution_count": 100,
   "metadata": {},
   "outputs": [],
   "source": [
    "from dataclasses import dataclass \n",
    "\n",
    "\n",
    "@dataclass \n",
    "class Affiliation:\n",
    "    zhitu_id: Int = None\n",
    "    mag_id: Int = None\n",
    "    \n",
    "    rank: Int = None\n",
    "    name: Str = None \n",
    "    paper_count: Int = None \n",
    "    citation_count: Int = None \n",
    "\n",
    "\n",
    "@dataclass\n",
    "class Author:\n",
    "    zhitu_id: Int = None\n",
    "    mag_id: Int = None\n",
    "    \n",
    "    rank: Int = None\n",
    "    name: Str = None\n",
    "    affiliation: Optional[Affiliation] = None\n",
    "    paper_count: Int = None \n",
    "    citation_count: Int = None \n",
    "    \n",
    "    \n",
    "@dataclass \n",
    "class Field:\n",
    "    zhitu_id: Int = None\n",
    "    mag_id: Int = None\n",
    "    \n",
    "    rank: Int = None \n",
    "    name: Str = None \n",
    "    level: Int = None \n",
    "    paper_count: Int = None \n",
    "    citation_count: Int = None \n",
    "    \n",
    "    \n",
    "@dataclass\n",
    "class Journal:\n",
    "    mag_id: Int = None\n",
    "    \n",
    "    rank: Int = None \n",
    "    name: Str = None \n",
    "    paper_count: Int = None \n",
    "    citation_count: Int = None \n",
    "    \n",
    "    \n",
    "@dataclass\n",
    "class Conference:\n",
    "    mag_id: Int = None\n",
    "    \n",
    "    rank: Int = None \n",
    "    name: Str = None \n",
    "    abbr: Str = None \n",
    "    paper_count: Int = None \n",
    "    citation_count: Int = None \n",
    "\n",
    "\n",
    "@dataclass\n",
    "class Paper:\n",
    "    zhitu_id: Int = None \n",
    "    mag_id: Int = None\n",
    "    author_list: Optional[list[Author]] = None \n",
    "    author_order: Optional[dict[Author, int]] = None \n",
    "    field_list: Optional[list[Field]] = None \n",
    "    \n",
    "    rank: Int = None\n",
    "    doi: Str = None\n",
    "    doc_type: Str = None\n",
    "    title: Str = None\n",
    "    year: Int = None\n",
    "    date: Str = None\n",
    "    publisher: Str = None\n",
    "    journal: Optional[Journal] = None \n",
    "    conference: Optional[Conference] = None \n",
    "    volume: Str = None\n",
    "    issue: Str = None\n",
    "    first_page: Str = None\n",
    "    last_page: Str = None\n",
    "    reference_count: Int = None\n",
    "    citation_count: Int = None\n",
    "    venue: Str = None      "
   ]
  },
  {
   "attachments": {},
   "cell_type": "markdown",
   "metadata": {},
   "source": [
    "# 2 读入学者成果等数据"
   ]
  },
  {
   "attachments": {},
   "cell_type": "markdown",
   "metadata": {},
   "source": [
    "## 2.1 读入机构"
   ]
  },
  {
   "cell_type": "code",
   "execution_count": 101,
   "metadata": {},
   "outputs": [
    {
     "name": "stderr",
     "output_type": "stream",
     "text": [
      "27063it [00:00, 297688.60it/s]\n"
     ]
    }
   ],
   "source": [
    "from tqdm import tqdm \n",
    "\n",
    "affiliation_index: dict[int, Affiliation] = dict() \n",
    "\n",
    "with open('/home/Dataset/MAG/mag_20211108/mag/Affiliations.txt', 'r', encoding='utf-8') as fp:\n",
    "    for line in tqdm(fp):\n",
    "        cols = line.split('\\t')\n",
    "        \n",
    "        affiliation_id = int(cols[0])\n",
    "        \n",
    "        affiliation = Affiliation(\n",
    "            mag_id = affiliation_id,\n",
    "            rank = int(cols[1]), \n",
    "            name = cols[3].strip(), \n",
    "            paper_count = int(cols[7]), \n",
    "            citation_count = int(cols[9]),\n",
    "        )\n",
    "        \n",
    "        affiliation_index[affiliation_id] = affiliation "
   ]
  },
  {
   "attachments": {},
   "cell_type": "markdown",
   "metadata": {},
   "source": [
    "## 2.2 读入领域"
   ]
  },
  {
   "cell_type": "code",
   "execution_count": 102,
   "metadata": {},
   "outputs": [
    {
     "name": "stderr",
     "output_type": "stream",
     "text": [
      "714856it [00:02, 298850.64it/s]\n"
     ]
    }
   ],
   "source": [
    "field_index: dict[int, Field] = dict() \n",
    "\n",
    "with open('/home/Dataset/MAG/mag_20211108/advanced/FieldsOfStudy.txt', 'r', encoding='utf-8') as fp:\n",
    "    for line in tqdm(fp):\n",
    "        cols = line.split('\\t')\n",
    "        \n",
    "        field_id = int(cols[0])\n",
    "        \n",
    "        field = Field(\n",
    "            mag_id = field_id, \n",
    "            rank = int(cols[1]), \n",
    "            name = cols[3].strip(), \n",
    "            level = int(cols[5]), \n",
    "            paper_count = int(cols[6]),  \n",
    "            citation_count = int(cols[8]),\n",
    "        )\n",
    "        \n",
    "        field_index[field_id] = field "
   ]
  },
  {
   "attachments": {},
   "cell_type": "markdown",
   "metadata": {},
   "source": [
    "## 2.3 读入期刊&会议"
   ]
  },
  {
   "cell_type": "code",
   "execution_count": 103,
   "metadata": {},
   "outputs": [
    {
     "name": "stderr",
     "output_type": "stream",
     "text": [
      "49063it [00:00, 361422.22it/s]\n",
      "4550it [00:00, 400631.54it/s]\n"
     ]
    }
   ],
   "source": [
    "journal_index: dict[int, Journal] = dict() \n",
    "conference_index: dict[int, Conference] = dict() \n",
    "\n",
    "with open('/home/Dataset/MAG/mag_20211108/mag/Journals.txt', 'r', encoding='utf-8') as fp:\n",
    "    for line in tqdm(fp):\n",
    "        cols = line.split('\\t')\n",
    "        \n",
    "        journal_id = int(cols[0])\n",
    "        \n",
    "        journal = Journal(\n",
    "            mag_id = journal_id, \n",
    "            rank = int(cols[1]), \n",
    "            name = cols[3].strip(), \n",
    "            paper_count = int(cols[7]),  \n",
    "            citation_count = int(cols[9]),\n",
    "        )\n",
    "        \n",
    "        journal_index[journal_id] = journal  \n",
    "        \n",
    "with open('/home/Dataset/MAG/mag_20211108/mag/ConferenceSeries.txt', 'r', encoding='utf-8') as fp:\n",
    "    for line in tqdm(fp):\n",
    "        cols = line.split('\\t')\n",
    "        \n",
    "        conference_id = int(cols[0])\n",
    "        \n",
    "        conference = Conference(\n",
    "            mag_id = conference_id, \n",
    "            rank = int(cols[1]), \n",
    "            name = cols[3].strip(), \n",
    "            abbr = cols[2].strip(), \n",
    "            paper_count = int(cols[4]),  \n",
    "            citation_count = int(cols[6]),\n",
    "        )\n",
    "        \n",
    "        conference_index[conference_id] = conference  "
   ]
  },
  {
   "attachments": {},
   "cell_type": "markdown",
   "metadata": {},
   "source": [
    "## 2.4 期刊&会议重新排名"
   ]
  },
  {
   "cell_type": "code",
   "execution_count": 104,
   "metadata": {},
   "outputs": [],
   "source": [
    "conference_list = list(conference_index.values())\n",
    "\n",
    "conference_list.sort(key=lambda x: x.rank)\n",
    "\n",
    "conference_index.clear() \n",
    "\n",
    "for rank, conference in enumerate(conference_list):\n",
    "    conference.rank = rank + 1 \n",
    "    conference_index[int(conference.mag_id)] = conference "
   ]
  },
  {
   "cell_type": "code",
   "execution_count": 105,
   "metadata": {},
   "outputs": [
    {
     "name": "stdout",
     "output_type": "stream",
     "text": [
      "Conference(mag_id=1200494941, rank=2538, name='Asia-Pacific Bioinformatics Conference', abbr='APBC', paper_count=291, citation_count=2945)\n"
     ]
    }
   ],
   "source": [
    "for conference in conference_index.values():\n",
    "    if conference.abbr == 'APBC':\n",
    "        print(conference)"
   ]
  },
  {
   "attachments": {},
   "cell_type": "markdown",
   "metadata": {},
   "source": [
    "重新排序后的部分会议排名：\n",
    "\n",
    "* KDD(A): 24\n",
    "* AAAI(A): 10\n",
    "* IJCAI(A): 15 \n",
    "* ICML(A): 7\n",
    "* CVPR(A): 1\n",
    "* CIKM(B): 62\n",
    "* EMNLP(B): 35\n",
    "* COLING(B): 70\n",
    "* WSDM(B): 234\n",
    "* SDM(B): 149\n",
    "* SSTD(C): 2063\n",
    "* ECIR(C): 552\n",
    "* ACCV(C): 297\n",
    "* ICTAI(C): 277\n",
    "* APBC(C): 2538"
   ]
  },
  {
   "cell_type": "code",
   "execution_count": 106,
   "metadata": {},
   "outputs": [],
   "source": [
    "journal_list = list(journal_index.values())\n",
    "\n",
    "journal_list.sort(key=lambda x: x.rank)\n",
    "\n",
    "journal_index.clear() \n",
    "\n",
    "for rank, journal in enumerate(journal_list):\n",
    "    journal.rank = rank + 1 \n",
    "    journal_index[int(journal.mag_id)] = journal  "
   ]
  },
  {
   "cell_type": "code",
   "execution_count": 119,
   "metadata": {},
   "outputs": [
    {
     "name": "stdout",
     "output_type": "stream",
     "text": [
      "Journal(mag_id=10169007, rank=2741, name='Knowledge Based Systems', paper_count=6269, citation_count=151681)\n",
      "Journal(mag_id=69518169, rank=6461, name='International Journal of Uncertainty, Fuzziness and Knowledge-Based Systems', paper_count=1447, citation_count=33603)\n"
     ]
    }
   ],
   "source": [
    "def normalize_str(s: str) -> str:\n",
    "    out_str = str()\n",
    "    \n",
    "    for ch in s:\n",
    "        if ch.isalnum():\n",
    "            out_str += ch.lower() \n",
    "        else:\n",
    "            out_str += ' '\n",
    "            \n",
    "    out_str = ' '.join(out_str.split())\n",
    "    \n",
    "    return out_str \n",
    "\n",
    "target = normalize_str('Knowledge-Based Systems')\n",
    "\n",
    "for journal in journal_index.values():\n",
    "    if target in normalize_str(journal.name):\n",
    "        print(journal)"
   ]
  },
  {
   "attachments": {},
   "cell_type": "markdown",
   "metadata": {},
   "source": [
    "重新排序后的部分期刊排名：\n",
    "\n",
    "* TKDE(A): 1125\n",
    "* TODS(A): 2135\n",
    "* TPAMI(A): 97 \n",
    "* JMLR(A): 607 \n",
    "* AI(A): 584\n",
    "* TKDD(B): 11535\n",
    "* DKE(B): 4790\n",
    "* DMKD(B): 3870\n",
    "* Neurocomputing(C): 1017\n",
    "* Expert Systems(C): 10354\n",
    "* KBS(C): 2741 "
   ]
  }
 ],
 "metadata": {
  "kernelspec": {
   "display_name": "base",
   "language": "python",
   "name": "python3"
  },
  "language_info": {
   "codemirror_mode": {
    "name": "ipython",
    "version": 3
   },
   "file_extension": ".py",
   "mimetype": "text/x-python",
   "name": "python",
   "nbconvert_exporter": "python",
   "pygments_lexer": "ipython3",
   "version": "3.9.13 (main, Aug 25 2022, 23:26:10) \n[GCC 11.2.0]"
  },
  "orig_nbformat": 4,
  "vscode": {
   "interpreter": {
    "hash": "9361eac9592db6036240c1035ef67375b6423b359c6e68ee240849a077bc4c29"
   }
  }
 },
 "nbformat": 4,
 "nbformat_minor": 2
}
