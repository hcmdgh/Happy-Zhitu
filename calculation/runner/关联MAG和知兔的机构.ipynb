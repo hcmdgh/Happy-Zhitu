{
 "cells": [
  {
   "attachments": {},
   "cell_type": "markdown",
   "metadata": {},
   "source": [
    "# 1 关联MAG和知兔的机构"
   ]
  },
  {
   "cell_type": "code",
   "execution_count": 1,
   "metadata": {},
   "outputs": [],
   "source": [
    "import json \n",
    "import requests \n",
    "from tqdm.auto import tqdm "
   ]
  },
  {
   "cell_type": "code",
   "execution_count": 2,
   "metadata": {},
   "outputs": [
    {
     "data": {
      "application/vnd.jupyter.widget-view+json": {
       "model_id": "bceaf92dabb74b3896fb5345e0ab8474",
       "version_major": 2,
       "version_minor": 0
      },
      "text/plain": [
       "  0%|          | 0/27063 [00:00<?, ?it/s]"
      ]
     },
     "metadata": {},
     "output_type": "display_data"
    }
   ],
   "source": [
    "with open('/mnt/GengHao/MAG/zhitu/mag_zhitu_org_map.json', 'w', encoding='utf-8') as writer:\n",
    "    with open('/mnt/GengHao/MAG/zhitu/affiliation_name_translation.json', 'r', encoding='utf-8') as reader:\n",
    "        for line in tqdm(reader, total=2_7063):\n",
    "            entry = json.loads(line)\n",
    "            affiliation_id = entry['affiliation_id']\n",
    "            affiliation_name = entry['affiliation_name']\n",
    "            affiliation_zh_name = entry['affiliation_zh_name']\n",
    "            \n",
    "            resp = requests.post(\n",
    "                url = 'http://localhost:10000/zhitu/org/create-org',\n",
    "                json = dict(org_name=affiliation_name), \n",
    "            )\n",
    "            resp_json = resp.json() \n",
    "            zhitu_org_id = resp_json['org_id']\n",
    "            \n",
    "            resp = requests.post(\n",
    "                url = 'http://localhost:10000/zhitu/org/create-org',\n",
    "                json = dict(org_name=affiliation_zh_name), \n",
    "            )\n",
    "            resp_json = resp.json() \n",
    "            zhitu_zh_org_id = resp_json['org_id']\n",
    "            \n",
    "            json_str = json.dumps(\n",
    "                dict(\n",
    "                    mag_org_id = affiliation_id, \n",
    "                    org_name = affiliation_name, \n",
    "                    org_zh_name = affiliation_zh_name, \n",
    "                    zhitu_org_id = zhitu_org_id, \n",
    "                    zhitu_zh_org_id = zhitu_zh_org_id, \n",
    "                ), \n",
    "                ensure_ascii = False, \n",
    "            ).strip() \n",
    "            \n",
    "            print(json_str, file=writer)"
   ]
  }
 ],
 "metadata": {
  "kernelspec": {
   "display_name": "base",
   "language": "python",
   "name": "python3"
  },
  "language_info": {
   "codemirror_mode": {
    "name": "ipython",
    "version": 3
   },
   "file_extension": ".py",
   "mimetype": "text/x-python",
   "name": "python",
   "nbconvert_exporter": "python",
   "pygments_lexer": "ipython3",
   "version": "3.9.13 (main, Aug 25 2022, 23:26:10) \n[GCC 11.2.0]"
  },
  "orig_nbformat": 4,
  "vscode": {
   "interpreter": {
    "hash": "5c61ffd438427a912fba26afe19e494e7e0db84e60ad89fc9ecf5f3e12055177"
   }
  }
 },
 "nbformat": 4,
 "nbformat_minor": 2
}
