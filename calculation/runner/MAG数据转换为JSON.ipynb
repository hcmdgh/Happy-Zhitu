{
 "cells": [
  {
   "attachments": {},
   "cell_type": "markdown",
   "metadata": {},
   "source": [
    "# 一、期刊"
   ]
  },
  {
   "cell_type": "code",
   "execution_count": 1,
   "metadata": {},
   "outputs": [],
   "source": [
    "import sys \n",
    "sys.path.append('..')\n",
    "\n",
    "import util \n",
    "from tqdm.auto import tqdm \n",
    "import json "
   ]
  },
  {
   "cell_type": "code",
   "execution_count": 2,
   "metadata": {},
   "outputs": [
    {
     "data": {
      "application/vnd.jupyter.widget-view+json": {
       "model_id": "e8157ad71aca4d6e94f1186b6cf70f68",
       "version_major": 2,
       "version_minor": 0
      },
      "text/plain": [
       "0it [00:00, ?it/s]"
      ]
     },
     "metadata": {},
     "output_type": "display_data"
    }
   ],
   "source": [
    "with open('/home/Dataset/MAG/mag_20211108/json/journal.json', 'w', encoding='utf-8') as writer:\n",
    "    with open('/home/Dataset/MAG/mag_20211108/mag/Journals.txt', 'r', encoding='utf-8') as reader: \n",
    "        for line in tqdm(reader):\n",
    "            cols = line.split('\\t')\n",
    "            \n",
    "            entry = dict(\n",
    "                id = util.parse_int(cols[0]),\n",
    "                rank = util.parse_int(cols[1]),\n",
    "                normalized_name = util.parse_str(cols[2]),\n",
    "                display_name = util.parse_str(cols[3]),\n",
    "                issn = util.parse_str(cols[4]),\n",
    "                publisher = util.parse_str(cols[5]),\n",
    "                web_page = util.parse_str(cols[6]),\n",
    "                paper_count = util.parse_int(cols[7]),\n",
    "                paper_family_count = util.parse_int(cols[8]),\n",
    "                citation_count = util.parse_int(cols[9]),\n",
    "                created_date = util.parse_str(cols[10]),\n",
    "            )\n",
    "            \n",
    "            json_str = json.dumps(entry, ensure_ascii=False).strip() \n",
    "            \n",
    "            print(json_str, file=writer)"
   ]
  },
  {
   "attachments": {},
   "cell_type": "markdown",
   "metadata": {},
   "source": [
    "# 二、机构"
   ]
  },
  {
   "cell_type": "code",
   "execution_count": 3,
   "metadata": {},
   "outputs": [
    {
     "data": {
      "application/vnd.jupyter.widget-view+json": {
       "model_id": "414a404cbff5483190f010c2798a4304",
       "version_major": 2,
       "version_minor": 0
      },
      "text/plain": [
       "0it [00:00, ?it/s]"
      ]
     },
     "metadata": {},
     "output_type": "display_data"
    }
   ],
   "source": [
    "with open('/home/Dataset/MAG/mag_20211108/json/affiliation.json', 'w', encoding='utf-8') as writer:\n",
    "    with open('/home/Dataset/MAG/mag_20211108/mag/Affiliations.txt', 'r', encoding='utf-8') as reader: \n",
    "        for line in tqdm(reader):\n",
    "            cols = line.split('\\t')\n",
    "            \n",
    "            entry = dict(\n",
    "                id = util.parse_int(cols[0]),\n",
    "                rank = util.parse_int(cols[1]),\n",
    "                normalized_name = util.parse_str(cols[2]),\n",
    "                display_name = util.parse_str(cols[3]),\n",
    "                grid_id = util.parse_str(cols[4]),\n",
    "                official_page = util.parse_str(cols[5]),\n",
    "                wiki_page = util.parse_str(cols[6]),\n",
    "                paper_count = util.parse_int(cols[7]),\n",
    "                paper_family_count = util.parse_int(cols[8]),\n",
    "                citation_count = util.parse_int(cols[9]),\n",
    "                iso_3166_code = util.parse_str(cols[10]),\n",
    "                latitude = util.parse_float(cols[11]),\n",
    "                longitude = util.parse_float(cols[12]),\n",
    "                created_date = util.parse_str(cols[13]),\n",
    "            )\n",
    "            \n",
    "            json_str = json.dumps(entry, ensure_ascii=False).strip() \n",
    "            \n",
    "            print(json_str, file=writer)"
   ]
  },
  {
   "attachments": {},
   "cell_type": "markdown",
   "metadata": {},
   "source": [
    "# 三、会议"
   ]
  },
  {
   "cell_type": "code",
   "execution_count": 4,
   "metadata": {},
   "outputs": [
    {
     "data": {
      "application/vnd.jupyter.widget-view+json": {
       "model_id": "2793f9a361714231b7c2201cdfd8408d",
       "version_major": 2,
       "version_minor": 0
      },
      "text/plain": [
       "0it [00:00, ?it/s]"
      ]
     },
     "metadata": {},
     "output_type": "display_data"
    }
   ],
   "source": [
    "with open('/home/Dataset/MAG/mag_20211108/json/conference.json', 'w', encoding='utf-8') as writer:\n",
    "    with open('/home/Dataset/MAG/mag_20211108/mag/ConferenceSeries.txt', 'r', encoding='utf-8') as reader: \n",
    "        for line in tqdm(reader):\n",
    "            cols = line.split('\\t')\n",
    "            \n",
    "            entry = dict(\n",
    "                id = util.parse_int(cols[0]),\n",
    "                rank = util.parse_int(cols[1]),\n",
    "                normalized_name = util.parse_str(cols[2]),\n",
    "                display_name = util.parse_str(cols[3]),\n",
    "                paper_count = util.parse_int(cols[4]),\n",
    "                paper_family_count = util.parse_int(cols[5]),\n",
    "                citation_count = util.parse_int(cols[6]),\n",
    "                created_date = util.parse_str(cols[7]),\n",
    "            )\n",
    "            \n",
    "            json_str = json.dumps(entry, ensure_ascii=False).strip() \n",
    "            \n",
    "            print(json_str, file=writer)"
   ]
  },
  {
   "attachments": {},
   "cell_type": "markdown",
   "metadata": {},
   "source": [
    "# 四、领域"
   ]
  },
  {
   "cell_type": "code",
   "execution_count": 5,
   "metadata": {},
   "outputs": [
    {
     "data": {
      "application/vnd.jupyter.widget-view+json": {
       "model_id": "50a0699d34584fa78ad95dc8d211d94e",
       "version_major": 2,
       "version_minor": 0
      },
      "text/plain": [
       "0it [00:00, ?it/s]"
      ]
     },
     "metadata": {},
     "output_type": "display_data"
    }
   ],
   "source": [
    "with open('/home/Dataset/MAG/mag_20211108/json/field.json', 'w', encoding='utf-8') as writer:\n",
    "    with open('/home/Dataset/MAG/mag_20211108/advanced/FieldsOfStudy.txt', 'r', encoding='utf-8') as reader: \n",
    "        for line in tqdm(reader):\n",
    "            cols = line.split('\\t')\n",
    "            \n",
    "            entry = dict(\n",
    "                id = util.parse_int(cols[0]),\n",
    "                rank = util.parse_int(cols[1]),\n",
    "                normalized_name = util.parse_str(cols[2]),\n",
    "                display_name = util.parse_str(cols[3]),\n",
    "                main_type = util.parse_str(cols[4]),\n",
    "                level = util.parse_int(cols[5]),\n",
    "                paper_count = util.parse_int(cols[6]),\n",
    "                paper_family_count = util.parse_int(cols[7]),\n",
    "                citation_count = util.parse_int(cols[8]),\n",
    "                created_date = util.parse_str(cols[9]),\n",
    "            )\n",
    "            \n",
    "            json_str = json.dumps(entry, ensure_ascii=False).strip() \n",
    "            \n",
    "            print(json_str, file=writer)"
   ]
  },
  {
   "cell_type": "code",
   "execution_count": 6,
   "metadata": {},
   "outputs": [
    {
     "data": {
      "application/vnd.jupyter.widget-view+json": {
       "model_id": "3ebc18132b454447bdd7440720c30bd4",
       "version_major": 2,
       "version_minor": 0
      },
      "text/plain": [
       "0it [00:00, ?it/s]"
      ]
     },
     "metadata": {},
     "output_type": "display_data"
    }
   ],
   "source": [
    "with open('/home/Dataset/MAG/mag_20211108/json/field_relation.json', 'w', encoding='utf-8') as writer:\n",
    "    with open('/home/Dataset/MAG/mag_20211108/advanced/FieldOfStudyChildren.txt', 'r', encoding='utf-8') as reader: \n",
    "        for line in tqdm(reader):\n",
    "            cols = line.split('\\t')\n",
    "            \n",
    "            entry = dict(\n",
    "                field_id = util.parse_int(cols[0]),\n",
    "                child_field_id = util.parse_int(cols[1]),\n",
    "            )\n",
    "            \n",
    "            json_str = json.dumps(entry, ensure_ascii=False).strip() \n",
    "            \n",
    "            print(json_str, file=writer)"
   ]
  }
 ],
 "metadata": {
  "kernelspec": {
   "display_name": "base",
   "language": "python",
   "name": "python3"
  },
  "language_info": {
   "codemirror_mode": {
    "name": "ipython",
    "version": 3
   },
   "file_extension": ".py",
   "mimetype": "text/x-python",
   "name": "python",
   "nbconvert_exporter": "python",
   "pygments_lexer": "ipython3",
   "version": "3.9.13 (main, Aug 25 2022, 23:26:10) \n[GCC 11.2.0]"
  },
  "orig_nbformat": 4,
  "vscode": {
   "interpreter": {
    "hash": "9361eac9592db6036240c1035ef67375b6423b359c6e68ee240849a077bc4c29"
   }
  }
 },
 "nbformat": 4,
 "nbformat_minor": 2
}
