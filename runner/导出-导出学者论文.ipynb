{
 "cells": [
  {
   "attachments": {},
   "cell_type": "markdown",
   "metadata": {},
   "source": [
    "# 1 输入学者id\n",
    "\n",
    "输入包含学者id的文本文件（一行一个学者id）。"
   ]
  },
  {
   "cell_type": "code",
   "execution_count": 1,
   "metadata": {},
   "outputs": [],
   "source": [
    "SCHOLAR_ID_PATH = '../data/scholar_ids.txt'\n",
    "\n",
    "scholar_id_set: set[int] = set() \n",
    "\n",
    "with open(SCHOLAR_ID_PATH, 'r', encoding='utf-8') as fp:\n",
    "    for line in fp:\n",
    "        scholar_id = int(line)\n",
    "        scholar_id_set.add(scholar_id)"
   ]
  },
  {
   "attachments": {},
   "cell_type": "markdown",
   "metadata": {},
   "source": [
    "# 2 导出学者的论文\n",
    "\n",
    "导出的表中包含如下字段：\n",
    "* 学者id\n",
    "* 学者姓名\n",
    "* 学者机构\n",
    "* 论文标题"
   ]
  },
  {
   "cell_type": "code",
   "execution_count": 2,
   "metadata": {},
   "outputs": [
    {
     "data": {
      "application/vnd.jupyter.widget-view+json": {
       "model_id": "541b32ce29f64e6d8ef8413f87b1a9a1",
       "version_major": 2,
       "version_minor": 0
      },
      "text/plain": [
       "  0%|          | 0/77 [00:00<?, ?it/s]"
      ]
     },
     "metadata": {},
     "output_type": "display_data"
    },
    {
     "name": "stdout",
     "output_type": "stream",
     "text": [
      "[INFO] The connection to MySQL is established.\n",
      "[INFO] The connection to JanusGraph is established.\n"
     ]
    },
    {
     "data": {
      "text/html": [
       "<div>\n",
       "<style scoped>\n",
       "    .dataframe tbody tr th:only-of-type {\n",
       "        vertical-align: middle;\n",
       "    }\n",
       "\n",
       "    .dataframe tbody tr th {\n",
       "        vertical-align: top;\n",
       "    }\n",
       "\n",
       "    .dataframe thead th {\n",
       "        text-align: right;\n",
       "    }\n",
       "</style>\n",
       "<table border=\"1\" class=\"dataframe\">\n",
       "  <thead>\n",
       "    <tr style=\"text-align: right;\">\n",
       "      <th></th>\n",
       "      <th>scholar_id</th>\n",
       "      <th>scholar_name</th>\n",
       "      <th>scholar_org</th>\n",
       "      <th>paper_title</th>\n",
       "    </tr>\n",
       "  </thead>\n",
       "  <tbody>\n",
       "    <tr>\n",
       "      <th>0</th>\n",
       "      <td>58159796224</td>\n",
       "      <td>Paul D. Komar</td>\n",
       "      <td>Oregon State University</td>\n",
       "      <td>Incorporating climate change and morphological...</td>\n",
       "    </tr>\n",
       "    <tr>\n",
       "      <th>1</th>\n",
       "      <td>39670579200</td>\n",
       "      <td>Alice Alldredge</td>\n",
       "      <td>Marine Science Institute, University of Califo...</td>\n",
       "      <td>Mass aggregation of diatom blooms: Insights fr...</td>\n",
       "    </tr>\n",
       "    <tr>\n",
       "      <th>2</th>\n",
       "      <td>39670579200</td>\n",
       "      <td>Alice Alldredge</td>\n",
       "      <td>Marine Science Institute, University of Califo...</td>\n",
       "      <td>Interstitial dissolved organic carbon (DOC) co...</td>\n",
       "    </tr>\n",
       "    <tr>\n",
       "      <th>3</th>\n",
       "      <td>39670579200</td>\n",
       "      <td>Alice Alldredge</td>\n",
       "      <td>Marine Science Institute, University of Califo...</td>\n",
       "      <td>In situ settling behavior of marine snow1</td>\n",
       "    </tr>\n",
       "    <tr>\n",
       "      <th>4</th>\n",
       "      <td>39670579200</td>\n",
       "      <td>Alice Alldredge</td>\n",
       "      <td>Marine Science Institute, University of Califo...</td>\n",
       "      <td>Effects of the 1997 98 El Niño on seasonal var...</td>\n",
       "    </tr>\n",
       "    <tr>\n",
       "      <th>...</th>\n",
       "      <td>...</td>\n",
       "      <td>...</td>\n",
       "      <td>...</td>\n",
       "      <td>...</td>\n",
       "    </tr>\n",
       "    <tr>\n",
       "      <th>1365</th>\n",
       "      <td>21353459728</td>\n",
       "      <td>David R. Dowling</td>\n",
       "      <td>Department of Mechanical Engineering, Universi...</td>\n",
       "      <td>Experimental assessment of fractal scale-simil...</td>\n",
       "    </tr>\n",
       "    <tr>\n",
       "      <th>1366</th>\n",
       "      <td>21353459728</td>\n",
       "      <td>David R. Dowling</td>\n",
       "      <td>Department of Mechanical Engineering, Universi...</td>\n",
       "      <td>Four-dimensional laser induced fluorescence st...</td>\n",
       "    </tr>\n",
       "    <tr>\n",
       "      <th>1367</th>\n",
       "      <td>21353459728</td>\n",
       "      <td>David R. Dowling</td>\n",
       "      <td>Department of Mechanical Engineering, Universi...</td>\n",
       "      <td>The mean velocity profile of a smooth-flat-pla...</td>\n",
       "    </tr>\n",
       "    <tr>\n",
       "      <th>1368</th>\n",
       "      <td>21353459728</td>\n",
       "      <td>David R. Dowling</td>\n",
       "      <td>Department of Mechanical Engineering, Universi...</td>\n",
       "      <td>High reynolds-number assessment of a multifrac...</td>\n",
       "    </tr>\n",
       "    <tr>\n",
       "      <th>1369</th>\n",
       "      <td>10064199680</td>\n",
       "      <td>Michael A. Spall</td>\n",
       "      <td>Woods Hole Oceanographic Institution Woods Hol...</td>\n",
       "      <td>Dynamics of upwelling in the Alaskan Beaufort ...</td>\n",
       "    </tr>\n",
       "  </tbody>\n",
       "</table>\n",
       "<p>1370 rows × 4 columns</p>\n",
       "</div>"
      ],
      "text/plain": [
       "       scholar_id      scholar_name  \\\n",
       "0     58159796224     Paul D. Komar   \n",
       "1     39670579200   Alice Alldredge   \n",
       "2     39670579200   Alice Alldredge   \n",
       "3     39670579200   Alice Alldredge   \n",
       "4     39670579200   Alice Alldredge   \n",
       "...           ...               ...   \n",
       "1365  21353459728  David R. Dowling   \n",
       "1366  21353459728  David R. Dowling   \n",
       "1367  21353459728  David R. Dowling   \n",
       "1368  21353459728  David R. Dowling   \n",
       "1369  10064199680  Michael A. Spall   \n",
       "\n",
       "                                            scholar_org  \\\n",
       "0                               Oregon State University   \n",
       "1     Marine Science Institute, University of Califo...   \n",
       "2     Marine Science Institute, University of Califo...   \n",
       "3     Marine Science Institute, University of Califo...   \n",
       "4     Marine Science Institute, University of Califo...   \n",
       "...                                                 ...   \n",
       "1365  Department of Mechanical Engineering, Universi...   \n",
       "1366  Department of Mechanical Engineering, Universi...   \n",
       "1367  Department of Mechanical Engineering, Universi...   \n",
       "1368  Department of Mechanical Engineering, Universi...   \n",
       "1369  Woods Hole Oceanographic Institution Woods Hol...   \n",
       "\n",
       "                                            paper_title  \n",
       "0     Incorporating climate change and morphological...  \n",
       "1     Mass aggregation of diatom blooms: Insights fr...  \n",
       "2     Interstitial dissolved organic carbon (DOC) co...  \n",
       "3             In situ settling behavior of marine snow1  \n",
       "4     Effects of the 1997 98 El Niño on seasonal var...  \n",
       "...                                                 ...  \n",
       "1365  Experimental assessment of fractal scale-simil...  \n",
       "1366  Four-dimensional laser induced fluorescence st...  \n",
       "1367  The mean velocity profile of a smooth-flat-pla...  \n",
       "1368  High reynolds-number assessment of a multifrac...  \n",
       "1369  Dynamics of upwelling in the Alaskan Beaufort ...  \n",
       "\n",
       "[1370 rows x 4 columns]"
      ]
     },
     "execution_count": 2,
     "metadata": {},
     "output_type": "execute_result"
    }
   ],
   "source": [
    "import sys \n",
    "sys.path.append('..')\n",
    "\n",
    "import zhitu \n",
    "from tqdm.notebook import tqdm \n",
    "import pandas as pd \n",
    "from collections import defaultdict\n",
    "from typing import Any, Optional  \n",
    "\n",
    "paper_dict: dict[str, list[Any]] = defaultdict(list)\n",
    "\n",
    "for scholar_id in tqdm(scholar_id_set):\n",
    "    scholar_entry = zhitu.query_scholar_by_id(scholar_id)\n",
    "    assert scholar_entry\n",
    "    \n",
    "    scholar_name = scholar_entry['name']\n",
    "    scholar_org = scholar_entry['org_name']\n",
    "\n",
    "    for paper_entry in zhitu.query_scholar_paper(scholar_id=scholar_id, source='JanusGraph'):\n",
    "        paper_title = paper_entry['paper_title']\n",
    "        \n",
    "        paper_dict['scholar_id'].append(scholar_id)\n",
    "        paper_dict['scholar_name'].append(scholar_name)\n",
    "        paper_dict['scholar_org'].append(scholar_org)\n",
    "        paper_dict['paper_title'].append(paper_title)\n",
    "        \n",
    "df = pd.DataFrame(paper_dict)\n",
    "\n",
    "df "
   ]
  },
  {
   "cell_type": "code",
   "execution_count": 3,
   "metadata": {},
   "outputs": [],
   "source": [
    "df.to_excel('../data/scholar_papers.xlsx', index=False)"
   ]
  }
 ],
 "metadata": {
  "kernelspec": {
   "display_name": "base",
   "language": "python",
   "name": "python3"
  },
  "language_info": {
   "codemirror_mode": {
    "name": "ipython",
    "version": 3
   },
   "file_extension": ".py",
   "mimetype": "text/x-python",
   "name": "python",
   "nbconvert_exporter": "python",
   "pygments_lexer": "ipython3",
   "version": "3.9.13 (main, Aug 25 2022, 23:26:10) \n[GCC 11.2.0]"
  },
  "orig_nbformat": 4,
  "vscode": {
   "interpreter": {
    "hash": "5c61ffd438427a912fba26afe19e494e7e0db84e60ad89fc9ecf5f3e12055177"
   }
  }
 },
 "nbformat": 4,
 "nbformat_minor": 2
}
