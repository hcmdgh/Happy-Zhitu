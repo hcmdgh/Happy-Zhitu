{
 "cells": [
  {
   "attachments": {},
   "cell_type": "markdown",
   "metadata": {},
   "source": [
    "# 1 输入学者id\n",
    "\n",
    "输入包含学者id的文本文件。\n",
    "\n",
    "每行包含两个学者id，表示将后一个id合并至前一个id。"
   ]
  },
  {
   "cell_type": "code",
   "execution_count": 1,
   "metadata": {},
   "outputs": [],
   "source": [
    "SCHOLAR_ID_PATH = '../data/merge_scholar_ids.txt'"
   ]
  },
  {
   "attachments": {},
   "cell_type": "markdown",
   "metadata": {},
   "source": [
    "# 2 合并学者"
   ]
  },
  {
   "cell_type": "code",
   "execution_count": 2,
   "metadata": {},
   "outputs": [
    {
     "data": {
      "application/vnd.jupyter.widget-view+json": {
       "model_id": "d7064a90a9e5474498118c7ee2799bba",
       "version_major": 2,
       "version_minor": 0
      },
      "text/plain": [
       "  0%|          | 0/21 [00:00<?, ?it/s]"
      ]
     },
     "metadata": {},
     "output_type": "display_data"
    },
    {
     "name": "stdout",
     "output_type": "stream",
     "text": [
      "[INFO] The connection to JanusGraph is established.\n",
      "[ERROR] 学者id不存在：496468072 14373027960\n",
      "[ERROR] 学者id不存在：34687828152 258781200\n",
      "[ERROR] 学者id不存在：101534265464 14318981168\n",
      "[ERROR] 学者id不存在：18083647696 20371611712\n",
      "[ERROR] 学者id不存在：5851447336 14371627128\n",
      "[ERROR] 学者id不存在：95327879288 43034222640\n",
      "[ERROR] 学者id不存在：46132265008 19834409080\n",
      "[ERROR] 学者id不存在：329785360 413339864\n",
      "[ERROR] 学者id不存在：9109188632 14336057392\n",
      "[ERROR] 学者id不存在：23921889456 14360711256\n",
      "[ERROR] 学者id不存在：264118288 14328369200\n",
      "[ERROR] 学者id不存在：43313819728 18062753848\n",
      "[ERROR] 学者id不存在：1181487256 15155618032\n",
      "[ERROR] 学者id不存在：36208615608 15155618032\n",
      "[ERROR] 学者id不存在：40528924752 14396624952\n",
      "[ERROR] 学者id不存在：7907532928 14424502512\n",
      "[ERROR] 学者id不存在：40524648528 14375473376\n",
      "[ERROR] 学者id不存在：46194098224 14485921912\n",
      "[ERROR] 学者id不存在：44641890496 4587651112\n",
      "[ERROR] 学者id不存在：43123962064 43028385840\n",
      "[ERROR] 学者id不存在：18173083704 1759535208\n"
     ]
    }
   ],
   "source": [
    "import sys \n",
    "sys.path.append('..')\n",
    "\n",
    "import zhitu \n",
    "from tqdm.notebook import tqdm \n",
    "\n",
    "with open(SCHOLAR_ID_PATH, 'r', encoding='utf-8') as fp:\n",
    "    for line in tqdm(fp.readlines()):\n",
    "        target_id, src_id = map(int, line.split())\n",
    "\n",
    "        zhitu.merge_scholar(\n",
    "            src_id = src_id, \n",
    "            target_id = target_id, \n",
    "        )"
   ]
  }
 ],
 "metadata": {
  "kernelspec": {
   "display_name": "base",
   "language": "python",
   "name": "python3"
  },
  "language_info": {
   "codemirror_mode": {
    "name": "ipython",
    "version": 3
   },
   "file_extension": ".py",
   "mimetype": "text/x-python",
   "name": "python",
   "nbconvert_exporter": "python",
   "pygments_lexer": "ipython3",
   "version": "3.9.13 (main, Aug 25 2022, 23:26:10) \n[GCC 11.2.0]"
  },
  "orig_nbformat": 4,
  "vscode": {
   "interpreter": {
    "hash": "5c61ffd438427a912fba26afe19e494e7e0db84e60ad89fc9ecf5f3e12055177"
   }
  }
 },
 "nbformat": 4,
 "nbformat_minor": 2
}
