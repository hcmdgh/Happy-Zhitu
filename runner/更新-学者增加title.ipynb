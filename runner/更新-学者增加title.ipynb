{
 "cells": [
  {
   "attachments": {},
   "cell_type": "markdown",
   "metadata": {},
   "source": [
    "# 1 输入学者id\n",
    "\n",
    "输入包含学者id的文本文件（一行一个学者id）。\n",
    "\n",
    "# 2 指定学者增加的title"
   ]
  },
  {
   "cell_type": "code",
   "execution_count": 7,
   "metadata": {},
   "outputs": [],
   "source": [
    "SCHOLAR_ID_PATH = '../data/scholar_ids.txt'\n",
    "\n",
    "ADD_TITLE = 'IEEE-FELLOW'"
   ]
  },
  {
   "cell_type": "code",
   "execution_count": 8,
   "metadata": {},
   "outputs": [],
   "source": [
    "scholar_id_set: set[int] = set() \n",
    "\n",
    "with open(SCHOLAR_ID_PATH, 'r', encoding='utf-8') as fp:\n",
    "    for line in fp:\n",
    "        scholar_id = int(line)\n",
    "        scholar_id_set.add(scholar_id)"
   ]
  },
  {
   "attachments": {},
   "cell_type": "markdown",
   "metadata": {},
   "source": [
    "# 3 学者增加title"
   ]
  },
  {
   "cell_type": "code",
   "execution_count": 9,
   "metadata": {},
   "outputs": [
    {
     "data": {
      "application/vnd.jupyter.widget-view+json": {
       "model_id": "fb23262309124ad7a66dde952f71f3a3",
       "version_major": 2,
       "version_minor": 0
      },
      "text/plain": [
       "  0%|          | 0/39 [00:00<?, ?it/s]"
      ]
     },
     "metadata": {},
     "output_type": "display_data"
    }
   ],
   "source": [
    "import sys \n",
    "sys.path.append('..')\n",
    "\n",
    "import zhitu \n",
    "from tqdm.notebook import tqdm \n",
    "from typing import Any, Optional  \n",
    "\n",
    "for scholar_id in tqdm(scholar_id_set):\n",
    "    zhitu.add_scholar_title(\n",
    "        scholar_id = scholar_id, \n",
    "        title = ADD_TITLE, \n",
    "    )"
   ]
  }
 ],
 "metadata": {
  "kernelspec": {
   "display_name": "base",
   "language": "python",
   "name": "python3"
  },
  "language_info": {
   "codemirror_mode": {
    "name": "ipython",
    "version": 3
   },
   "file_extension": ".py",
   "mimetype": "text/x-python",
   "name": "python",
   "nbconvert_exporter": "python",
   "pygments_lexer": "ipython3",
   "version": "3.9.13"
  },
  "orig_nbformat": 4,
  "vscode": {
   "interpreter": {
    "hash": "5c61ffd438427a912fba26afe19e494e7e0db84e60ad89fc9ecf5f3e12055177"
   }
  }
 },
 "nbformat": 4,
 "nbformat_minor": 2
}
