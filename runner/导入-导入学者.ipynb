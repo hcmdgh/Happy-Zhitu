{
 "cells": [
  {
   "attachments": {},
   "cell_type": "markdown",
   "metadata": {},
   "source": [
    "# 1 输入学者详情\n",
    "\n",
    "以CSV格式输入学者详情，表的列名需要与scholar_basic一致。"
   ]
  },
  {
   "cell_type": "code",
   "execution_count": 1,
   "metadata": {},
   "outputs": [],
   "source": [
    "SCHOLAR_DETAIL_PATH = '../data/scholar_detail.csv'"
   ]
  },
  {
   "attachments": {},
   "cell_type": "markdown",
   "metadata": {},
   "source": [
    "# 2 导入学者"
   ]
  },
  {
   "cell_type": "code",
   "execution_count": 2,
   "metadata": {},
   "outputs": [
    {
     "data": {
      "text/html": [
       "<div>\n",
       "<style scoped>\n",
       "    .dataframe tbody tr th:only-of-type {\n",
       "        vertical-align: middle;\n",
       "    }\n",
       "\n",
       "    .dataframe tbody tr th {\n",
       "        vertical-align: top;\n",
       "    }\n",
       "\n",
       "    .dataframe thead th {\n",
       "        text-align: right;\n",
       "    }\n",
       "</style>\n",
       "<table border=\"1\" class=\"dataframe\">\n",
       "  <thead>\n",
       "    <tr style=\"text-align: right;\">\n",
       "      <th></th>\n",
       "      <th>name</th>\n",
       "      <th>org_name</th>\n",
       "      <th>title</th>\n",
       "    </tr>\n",
       "  </thead>\n",
       "  <tbody>\n",
       "    <tr>\n",
       "      <th>0</th>\n",
       "      <td>张原豪</td>\n",
       "      <td>台北中央研究院</td>\n",
       "      <td>IEEE FELLOW</td>\n",
       "    </tr>\n",
       "    <tr>\n",
       "      <th>1</th>\n",
       "      <td>杨凤茹</td>\n",
       "      <td>香港中文大学</td>\n",
       "      <td>IEEE FELLOW</td>\n",
       "    </tr>\n",
       "    <tr>\n",
       "      <th>2</th>\n",
       "      <td>汪建平</td>\n",
       "      <td>香港城市大学</td>\n",
       "      <td>IEEE FELLOW</td>\n",
       "    </tr>\n",
       "    <tr>\n",
       "      <th>3</th>\n",
       "      <td>苏文藻</td>\n",
       "      <td>香港中文大学</td>\n",
       "      <td>IEEE FELLOW</td>\n",
       "    </tr>\n",
       "  </tbody>\n",
       "</table>\n",
       "</div>"
      ],
      "text/plain": [
       "  name org_name        title\n",
       "0  张原豪  台北中央研究院  IEEE FELLOW\n",
       "1  杨凤茹   香港中文大学  IEEE FELLOW\n",
       "2  汪建平   香港城市大学  IEEE FELLOW\n",
       "3  苏文藻   香港中文大学  IEEE FELLOW"
      ]
     },
     "execution_count": 2,
     "metadata": {},
     "output_type": "execute_result"
    }
   ],
   "source": [
    "import sys \n",
    "sys.path.append('..')\n",
    "\n",
    "import zhitu \n",
    "from tqdm.notebook import tqdm \n",
    "import pandas as pd \n",
    "\n",
    "df = zhitu.read_csv(SCHOLAR_DETAIL_PATH)\n",
    "df "
   ]
  },
  {
   "cell_type": "code",
   "execution_count": 3,
   "metadata": {},
   "outputs": [
    {
     "data": {
      "application/vnd.jupyter.widget-view+json": {
       "model_id": "e0d848dd98224e7580672c859eb129ad",
       "version_major": 2,
       "version_minor": 0
      },
      "text/plain": [
       "  0%|          | 0/4 [00:00<?, ?it/s]"
      ]
     },
     "metadata": {},
     "output_type": "display_data"
    },
    {
     "name": "stdout",
     "output_type": "stream",
     "text": [
      "[INFO] The connection to MySQL is established.\n",
      "[INFO] The connection to JanusGraph is established.\n"
     ]
    }
   ],
   "source": [
    "scholar_entry_list = df.to_dict('records')\n",
    "\n",
    "scholar_id_set: set[int] = set()\n",
    "\n",
    "for scholar_entry in tqdm(scholar_entry_list):\n",
    "    result = zhitu.create_scholar(scholar_entry)\n",
    "    \n",
    "    if result.get('scholar_id'):\n",
    "        scholar_id_set.add(result['scholar_id'])"
   ]
  },
  {
   "attachments": {},
   "cell_type": "markdown",
   "metadata": {},
   "source": [
    "# 3 输出学者id"
   ]
  },
  {
   "cell_type": "code",
   "execution_count": 4,
   "metadata": {},
   "outputs": [],
   "source": [
    "with open('../data/scholar_ids.txt', 'w', encoding='utf-8') as fp:\n",
    "    for scholar_id in scholar_id_set:\n",
    "        print(scholar_id, file=fp)"
   ]
  }
 ],
 "metadata": {
  "kernelspec": {
   "display_name": "base",
   "language": "python",
   "name": "python3"
  },
  "language_info": {
   "codemirror_mode": {
    "name": "ipython",
    "version": 3
   },
   "file_extension": ".py",
   "mimetype": "text/x-python",
   "name": "python",
   "nbconvert_exporter": "python",
   "pygments_lexer": "ipython3",
   "version": "3.9.13"
  },
  "orig_nbformat": 4,
  "vscode": {
   "interpreter": {
    "hash": "5c61ffd438427a912fba26afe19e494e7e0db84e60ad89fc9ecf5f3e12055177"
   }
  }
 },
 "nbformat": 4,
 "nbformat_minor": 2
}
